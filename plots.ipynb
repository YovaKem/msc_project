{
 "cells": [
  {
   "cell_type": "code",
   "execution_count": 1,
   "metadata": {
    "collapsed": true
   },
   "outputs": [],
   "source": [
    "import numpy as np\n",
    "import pandas as pd\n",
    "from matplotlib import pyplot as plt"
   ]
  },
  {
   "cell_type": "code",
   "execution_count": 27,
   "metadata": {
    "collapsed": false
   },
   "outputs": [
    {
     "name": "stdout",
     "output_type": "stream",
     "text": [
      "[2, 3, 4]\n"
     ]
    }
   ],
   "source": [
    "bla = [3,2,4]\n",
    "bam = bla.sort()\n",
    "print(bla)"
   ]
  },
  {
   "cell_type": "code",
   "execution_count": 7,
   "metadata": {
    "collapsed": false
   },
   "outputs": [],
   "source": [
    "data1 = {4: 3.2943130197363687e-08, 7: 3.0405142353721461e-08, 6: 8.1811714446053347e-08, 5: 5.6150292320097645e-08}\n",
    "data2 = {6: 2.913048234119822e-08, 7: 3.5265738413744349e-08, 8: 5.6353185349853695e-08, 9: 7.6876793981434839e-08, 10: 5.2653498424921743e-08, 11: 1.1138588081837285e-07}\n",
    "\n",
    "lengths = list(set(list(data1.keys())+list(data2.keys())))\n",
    "lengths.sort()\n",
    "N = len(lengths)\n",
    "data1_list = [data1[val] if val in data1.keys() else 0 for val in lengths ]\n",
    "data2_list = [data2[val] if val in data2.keys() else 0 for val in lengths ]\n"
   ]
  },
  {
   "cell_type": "code",
   "execution_count": 33,
   "metadata": {
    "collapsed": false
   },
   "outputs": [
    {
     "name": "stdout",
     "output_type": "stream",
     "text": [
      "{2: 20, 3: 23}\n"
     ]
    }
   ],
   "source": [
    "print(data1)"
   ]
  },
  {
   "cell_type": "code",
   "execution_count": 19,
   "metadata": {
    "collapsed": false
   },
   "outputs": [
    {
     "data": {
      "image/png": "[encoded data removed]",
      "text/plain": [
       "<matplotlib.figure.Figure at 0x7f0720f8e198>"
      ]
     },
     "metadata": {},
     "output_type": "display_data"
    }
   ],
   "source": [
    "ind = np.arange(N)  # the x locations for the groups\n",
    "width = 0.35       # the width of the bars\n",
    "\n",
    "fig, ax = plt.subplots()\n",
    "rects1 = ax.bar(ind, data1_list, width, color='r')\n",
    "\n",
    "women_means = (25, 32, 34, 20, 25)\n",
    "\n",
    "rects2 = ax.bar(ind + width, data2_list, width, color='y',label=[1,2,3,4])\n",
    "\n",
    "ax.set_xticks(ind + width / 2)\n",
    "ax.set_xticklabels([4,5,6,7,8,9,10,11])\n",
    "ax.set_ylabel('Average probability')\n",
    "ax.set_xlabel('Word length')\n",
    "ax.set_title('English suffixes: Selectional restrictions')\n",
    "ax.legend((rects1[0], rects2[0]), ('Bare base', 'Suffixed base'))\n",
    "rects = ax.patches\n",
    "\n",
    "# Now make some labels\n",
    "labels = [\"label%d\" % i for i in range(len(rects))]\n",
    "\n",
    "for rect, label in zip(rects, labels):\n",
    "    height = rect.get_height()\n",
    "    ax.text(rect.get_x() + rect.get_width()/2, height, label, ha='center', va='bottom')\n",
    "\n",
    "plt.show()"
   ]
  }
 ],
 "metadata": {
  "kernelspec": {
   "display_name": "Python 3",
   "language": "python",
   "name": "python3"
  },
  "language_info": {
   "codemirror_mode": {
    "name": "ipython",
    "version": 3
   },
   "file_extension": ".py",
   "mimetype": "text/x-python",
   "name": "python",
   "nbconvert_exporter": "python",
   "pygments_lexer": "ipython3",
   "version": "3.6.0"
  }
 },
 "nbformat": 4,
 "nbformat_minor": 2
}
